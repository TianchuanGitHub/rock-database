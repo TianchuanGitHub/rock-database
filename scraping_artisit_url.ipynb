{
 "cells": [
  {
   "cell_type": "code",
   "execution_count": 7,
   "metadata": {
    "collapsed": true
   },
   "outputs": [],
   "source": [
    "import urllib2\n",
    "from bs4 import BeautifulSoup\n",
    "from bs4 import SoupStrainer"
   ]
  },
  {
   "cell_type": "code",
   "execution_count": 8,
   "metadata": {
    "collapsed": true
   },
   "outputs": [],
   "source": [
    "only_a_tags = SoupStrainer(\"a\")\n",
    "player_url_list = []"
   ]
  },
  {
   "cell_type": "code",
   "execution_count": 9,
   "metadata": {
    "collapsed": false
   },
   "outputs": [
    {
     "name": "stderr",
     "output_type": "stream",
     "text": [
      "WARNING:root:Some characters could not be decoded, and were replaced with REPLACEMENT CHARACTER.\n",
      "WARNING:root:Some characters could not be decoded, and were replaced with REPLACEMENT CHARACTER.\n",
      "WARNING:root:Some characters could not be decoded, and were replaced with REPLACEMENT CHARACTER.\n",
      "WARNING:root:Some characters could not be decoded, and were replaced with REPLACEMENT CHARACTER.\n",
      "WARNING:root:Some characters could not be decoded, and were replaced with REPLACEMENT CHARACTER.\n",
      "WARNING:root:Some characters could not be decoded, and were replaced with REPLACEMENT CHARACTER.\n",
      "WARNING:root:Some characters could not be decoded, and were replaced with REPLACEMENT CHARACTER.\n",
      "WARNING:root:Some characters could not be decoded, and were replaced with REPLACEMENT CHARACTER.\n"
     ]
    },
    {
     "name": "stdout",
     "output_type": "stream",
     "text": [
      "scripting 1821 player url\n"
     ]
    }
   ],
   "source": [
    "char = ['a','b','c','d','e','f','g','h','i','j','k','l','m','n','o','p','q','r','s','t','w','x','y','z']\n",
    "for i in range(0,len(char)):\n",
    "    html_url = 'http://www.yaogun.com/artist/select%s.htm' %char[i]\n",
    "    html_str = urllib2.urlopen(html_url).read()\n",
    "    soup = BeautifulSoup(html_str, 'html.parser',parse_only=only_a_tags)\n",
    "    for link in soup:\n",
    "        if link.has_attr('href'):\n",
    "            player_url_list.append('http://www.yaogun.com/artist/'+link['href'])            \n",
    "print 'scripting %d player url' %len(player_url_list)"
   ]
  },
  {
   "cell_type": "code",
   "execution_count": 10,
   "metadata": {
    "collapsed": false
   },
   "outputs": [
    {
     "name": "stdout",
     "output_type": "stream",
     "text": [
      "1773\n"
     ]
    }
   ],
   "source": [
    "#clean up the url list\n",
    "player_url_list_copy = list(player_url_list)\n",
    "stopword_list=[str('index'),str('select')]\n",
    "\n",
    "for y in stopword_list:\n",
    "    for x in player_url_list_copy:   \n",
    "        if str(x).find(y) != -1:\n",
    "            player_url_list_copy.remove(x)\n",
    "print len(player_url_list_copy)"
   ]
  },
  {
   "cell_type": "code",
   "execution_count": 14,
   "metadata": {
    "collapsed": true
   },
   "outputs": [],
   "source": [
    "# store the player url list in a csv file\n",
    "myfile = open('player_url_list.csv', 'wb')\n",
    "wr = csv.writer(myfile, quoting=csv.QUOTE_ALL)\n",
    "wr.writerow(player_url_list_copy)"
   ]
  },
  {
   "cell_type": "code",
   "execution_count": null,
   "metadata": {
    "collapsed": true
   },
   "outputs": [],
   "source": []
  },
  {
   "cell_type": "code",
   "execution_count": null,
   "metadata": {
    "collapsed": true
   },
   "outputs": [],
   "source": []
  }
 ],
 "metadata": {
  "kernelspec": {
   "display_name": "Python 2",
   "language": "python",
   "name": "python2"
  },
  "language_info": {
   "codemirror_mode": {
    "name": "ipython",
    "version": 2
   },
   "file_extension": ".py",
   "mimetype": "text/x-python",
   "name": "python",
   "nbconvert_exporter": "python",
   "pygments_lexer": "ipython2",
   "version": "2.7.10"
  }
 },
 "nbformat": 4,
 "nbformat_minor": 0
}
